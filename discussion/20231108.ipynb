{
  "nbformat": 4,
  "nbformat_minor": 0,
  "metadata": {
    "colab": {
      "provenance": [],
      "authorship_tag": "ABX9TyPO/cVhaYVVfeqeUFDwv9ys",
      "include_colab_link": true
    },
    "kernelspec": {
      "name": "python3",
      "display_name": "Python 3"
    },
    "language_info": {
      "name": "python"
    },
    "accelerator": "GPU"
  },
  "cells": [
    {
      "cell_type": "markdown",
      "metadata": {
        "id": "view-in-github",
        "colab_type": "text"
      },
      "source": [
        "<a href=\"https://colab.research.google.com/github/HuangJin-De/am_NH/blob/main/discussion/20231108.ipynb\" target=\"_parent\"><img src=\"https://colab.research.google.com/assets/colab-badge.svg\" alt=\"Open In Colab\"/></a>"
      ]
    },
    {
      "cell_type": "code",
      "source": [
        "! rm -rf am_NH\n",
        "! git clone https://github.com/HuangJin-De/am_NH.git"
      ],
      "metadata": {
        "id": "x9hcwec3GK_D",
        "outputId": "1b3b4bc0-9a86-4034-ae0a-a6d83fe71182",
        "colab": {
          "base_uri": "https://localhost:8080/"
        }
      },
      "execution_count": 1,
      "outputs": [
        {
          "output_type": "stream",
          "name": "stdout",
          "text": [
            "Cloning into 'am_NH'...\n",
            "remote: Enumerating objects: 78, done.\u001b[K\n",
            "remote: Counting objects: 100% (78/78), done.\u001b[K\n",
            "remote: Compressing objects: 100% (57/57), done.\u001b[K\n",
            "remote: Total 78 (delta 18), reused 73 (delta 17), pack-reused 0\u001b[K\n",
            "Receiving objects: 100% (78/78), 2.67 MiB | 35.98 MiB/s, done.\n",
            "Resolving deltas: 100% (18/18), done.\n"
          ]
        }
      ]
    },
    {
      "cell_type": "code",
      "source": [
        "import numpy as np\n",
        "import matplotlib.pyplot as plt\n",
        "from sklearn.preprocessing import StandardScaler, MinMaxScaler\n",
        "from sklearn.model_selection import train_test_split\n",
        "\n",
        "path='am_NH'\n",
        "filen=path+'/train_data/zm_10days_data.dat'\n",
        "\n",
        "data=np.fromfile(filen,dtype=np.float32)\n",
        "data=data.reshape(-1,42)\n",
        "\n",
        "y1=np.copy(data[:,0])\n",
        "y2=np.copy(data[:,1])\n",
        "x=np.copy(data[:,2:43])\n",
        "\n",
        "print(y1.shape,y2.shape,x.shape)\n",
        "\n"
      ],
      "metadata": {
        "id": "ben75NdukpFI",
        "outputId": "a117db18-9249-48a0-d82a-a84338dd6f6b",
        "colab": {
          "base_uri": "https://localhost:8080/"
        }
      },
      "execution_count": 8,
      "outputs": [
        {
          "output_type": "stream",
          "name": "stdout",
          "text": [
            "(4662,) (4662,) (4662, 40)\n"
          ]
        }
      ]
    },
    {
      "cell_type": "markdown",
      "source": [
        "Start the multiple linear regression"
      ],
      "metadata": {
        "id": "O9hUAc0zmXs1"
      }
    },
    {
      "cell_type": "code",
      "source": [],
      "metadata": {
        "id": "k5u3rF88mUCh"
      },
      "execution_count": null,
      "outputs": []
    }
  ]
}