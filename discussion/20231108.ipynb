{
  "nbformat": 4,
  "nbformat_minor": 0,
  "metadata": {
    "colab": {
      "provenance": [],
      "authorship_tag": "ABX9TyP8RXqBk1VZG8UDcwWhigFp",
      "include_colab_link": true
    },
    "kernelspec": {
      "name": "python3",
      "display_name": "Python 3"
    },
    "language_info": {
      "name": "python"
    },
    "accelerator": "GPU"
  },
  "cells": [
    {
      "cell_type": "markdown",
      "metadata": {
        "id": "view-in-github",
        "colab_type": "text"
      },
      "source": [
        "<a href=\"https://colab.research.google.com/github/HuangJin-De/am_NH/blob/main/discussion/20231108.ipynb\" target=\"_parent\"><img src=\"https://colab.research.google.com/assets/colab-badge.svg\" alt=\"Open In Colab\"/></a>"
      ]
    },
    {
      "cell_type": "code",
      "source": [
        "! rm -rf am_NH\n",
        "! git clone https://github.com/HuangJin-De/am_NH.git"
      ],
      "metadata": {
        "id": "x9hcwec3GK_D",
        "colab": {
          "base_uri": "https://localhost:8080/"
        },
        "outputId": "5a5b55d8-3196-4514-b677-226389e861da"
      },
      "execution_count": 9,
      "outputs": [
        {
          "output_type": "stream",
          "name": "stdout",
          "text": [
            "Cloning into 'am_NH'...\n",
            "remote: Enumerating objects: 88, done.\u001b[K\n",
            "remote: Counting objects: 100% (88/88), done.\u001b[K\n",
            "remote: Compressing objects: 100% (61/61), done.\u001b[K\n",
            "remote: Total 88 (delta 24), reused 80 (delta 21), pack-reused 0\u001b[K\n",
            "Receiving objects: 100% (88/88), 2.67 MiB | 30.40 MiB/s, done.\n",
            "Resolving deltas: 100% (24/24), done.\n"
          ]
        }
      ]
    },
    {
      "cell_type": "code",
      "source": [
        "import numpy as np\n",
        "import matplotlib.pyplot as plt\n",
        "from sklearn.preprocessing import StandardScaler, MinMaxScaler\n",
        "from sklearn.model_selection import train_test_split\n",
        "\n",
        "path='am_NH'\n",
        "filen=path+'/train_data/zm_10days_data.dat'\n",
        "\n",
        "data=np.fromfile(filen,dtype=np.float32)\n",
        "data=data.reshape(-1,42)\n",
        "\n",
        "y1=np.copy(data[:,0])\n",
        "print(y1[0:10])\n",
        "y2=np.copy(data[:,1])\n",
        "print(y2[0:10])\n",
        "x=np.copy(data[:,2:43])\n",
        "\n",
        "print(y1.shape,y2.shape,x.shape)\n",
        "\n"
      ],
      "metadata": {
        "colab": {
          "base_uri": "https://localhost:8080/"
        },
        "id": "ben75NdukpFI",
        "outputId": "722fd965-cb26-4ce6-f945-d96615830096"
      },
      "execution_count": 17,
      "outputs": [
        {
          "output_type": "stream",
          "name": "stdout",
          "text": [
            "[-0.7060432  0.         0.         0.         0.         0.\n",
            "  0.         0.         0.         0.       ]\n",
            "[-1.231032  0.        0.        0.        0.        0.        0.\n",
            "  0.        0.        0.      ]\n",
            "(4662,) (4662,) (4662, 40)\n"
          ]
        }
      ]
    },
    {
      "cell_type": "markdown",
      "source": [
        "Start the multiple linear regression"
      ],
      "metadata": {
        "id": "O9hUAc0zmXs1"
      }
    },
    {
      "cell_type": "code",
      "source": [
        "from sklearn.linear_model import LinearRegression\n",
        "from sklearn.metrics import mean_squared_error, mean_absolute_error\n",
        "\n",
        "\n",
        "x_train=x\n",
        "y1_train=y1\n",
        "y2_train=y2\n",
        "\n",
        "x_train, x_test, y1_train, y1_test = train_test_split(\n",
        "    x, y1, test_size=0.1, random_state=101)\n",
        "\n",
        "model = LinearRegression()\n",
        "model.fit(x_train,y1_train)\n",
        "\n",
        "predictions = model.predict(x_test)\n",
        "\n",
        "print(y1_test[0:10],predictions[0:10])\n",
        "\n",
        "print('mean_squared_error : ', mean_squared_error(y1_test, predictions))\n",
        "print('mean_absolute_error : ', mean_absolute_error(y1_test, predictions))\n"
      ],
      "metadata": {
        "colab": {
          "base_uri": "https://localhost:8080/"
        },
        "id": "k5u3rF88mUCh",
        "outputId": "9d995c50-1797-4136-bb22-b06dcd69a3f6"
      },
      "execution_count": 15,
      "outputs": [
        {
          "output_type": "stream",
          "name": "stdout",
          "text": [
            "[0. 0. 0. 0. 0. 0. 0. 0. 0. 0.] [1.4551915e-11 1.4551915e-11 1.4551915e-11 1.4551915e-11 1.4551915e-11\n",
            " 1.4551915e-11 1.4551915e-11 1.4551915e-11 1.4551915e-11 1.4551915e-11]\n",
            "mean_squared_error :  2.1175824e-22\n",
            "mean_absolute_error :  1.4551915e-11\n"
          ]
        }
      ]
    }
  ]
}