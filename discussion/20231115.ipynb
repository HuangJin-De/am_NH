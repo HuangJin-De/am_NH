{
  "nbformat": 4,
  "nbformat_minor": 0,
  "metadata": {
    "colab": {
      "provenance": [],
      "authorship_tag": "ABX9TyNdNnb/W9IG2lntmDcRTpDf",
      "include_colab_link": true
    },
    "kernelspec": {
      "name": "python3",
      "display_name": "Python 3"
    },
    "language_info": {
      "name": "python"
    }
  },
  "cells": [
    {
      "cell_type": "markdown",
      "metadata": {
        "id": "view-in-github",
        "colab_type": "text"
      },
      "source": [
        "<a href=\"https://colab.research.google.com/github/HuangJin-De/am_NH/blob/main/discussion/20231115.ipynb\" target=\"_parent\"><img src=\"https://colab.research.google.com/assets/colab-badge.svg\" alt=\"Open In Colab\"/></a>"
      ]
    },
    {
      "cell_type": "code",
      "source": [
        "! rm -rf am_NH\n",
        "! git clone https://github.com/HuangJin-De/am_NH.git"
      ],
      "metadata": {
        "id": "x9hcwec3GK_D",
        "colab": {
          "base_uri": "https://localhost:8080/"
        },
        "outputId": "c2804f99-551b-44df-dea9-5b8846e35012"
      },
      "execution_count": 1,
      "outputs": [
        {
          "output_type": "stream",
          "name": "stdout",
          "text": [
            "Cloning into 'am_NH'...\n",
            "remote: Enumerating objects: 185, done.\u001b[K\n",
            "remote: Counting objects: 100% (185/185), done.\u001b[K\n",
            "remote: Compressing objects: 100% (134/134), done.\u001b[K\n",
            "remote: Total 185 (delta 76), reused 116 (delta 36), pack-reused 0\u001b[K\n",
            "Receiving objects: 100% (185/185), 6.22 MiB | 25.27 MiB/s, done.\n",
            "Resolving deltas: 100% (76/76), done.\n"
          ]
        }
      ]
    },
    {
      "cell_type": "code",
      "source": [
        "import numpy as np\n",
        "import matplotlib.pyplot as plt\n",
        "\n",
        "path='am_NH'\n",
        "filen=path+'/train_data/zm_21days_ori_data.dat'\n",
        "\n",
        "data=np.fromfile(filen,dtype=np.float32)\n",
        "data=data.reshape(-1,84)\n",
        "\n",
        "z1=np.copy(data[:,0:21])\n",
        "z2=np.copy(data[:,21:42])\n",
        "m1=np.copy(data[:,42:63])\n",
        "m2=np.copy(data[:,63:84])\n",
        "\n",
        "print(z1.shape,z2.shape,m1.shape,m2.shape)\n"
      ],
      "metadata": {
        "colab": {
          "base_uri": "https://localhost:8080/"
        },
        "id": "J-HJH_kdgg5P",
        "outputId": "9e251e53-8b9f-464e-dcc5-72f541825519"
      },
      "execution_count": 12,
      "outputs": [
        {
          "output_type": "stream",
          "name": "stdout",
          "text": [
            "(4242, 21) (4242, 21) (4242, 21) (4242, 21)\n"
          ]
        }
      ]
    },
    {
      "cell_type": "markdown",
      "source": [
        "estimations of b11, b12, b21, and b22."
      ],
      "metadata": {
        "id": "3DyMFycljbu6"
      }
    },
    {
      "cell_type": "code",
      "source": [
        "from sklearn.linear_model import LinearRegression\n",
        "\n",
        "def cal_reg_coef(x,y):\n",
        "  model=LinearRegression()\n",
        "  model.fit(x,y)\n",
        "  return model.coef_\n",
        "\n",
        "\n",
        "lag_z1z1=[]\n",
        "lag_z1z2=[]\n",
        "lag_z2z1=[]\n",
        "lag_z2z2=[]\n",
        "lag_m1z1=[]\n",
        "lag_m1z2=[]\n",
        "\n",
        "for i in np.arange(8,21):\n",
        "  x=np.copy(z1[:,0]).reshape(-1,1)\n",
        "  y=np.copy(z1[:,i]).reshape(-1,1)\n",
        "  lag_z1z1.append(cal_reg_coef(x,y))\n",
        "\n",
        "  x=np.copy(z1[:,0]).reshape(-1,1)\n",
        "  y=np.copy(z2[:,i]).reshape(-1,1)\n",
        "  lag_z2z1.append(cal_reg_coef(x,y))\n",
        "\n",
        "  x=np.copy(z2[:,0]).reshape(-1,1)\n",
        "  y=np.copy(z1[:,i]).reshape(-1,1)\n",
        "  lag_z1z2.append(cal_reg_coef(x,y))\n",
        "\n",
        "  x=np.copy(z2[:,0]).reshape(-1,1)\n",
        "  y=np.copy(z2[:,i]).reshape(-1,1)\n",
        "  lag_z2z2.append(cal_reg_coef(x,y))\n",
        "\n",
        "  x=np.copy(z1[:,0]).reshape(-1,1)\n",
        "  y=np.copy(m1[:,i]).reshape(-1,1)\n",
        "  lag_m1z1.append(cal_reg_coef(x,y))\n",
        "\n",
        "  x=np.copy(z2[:,0]).reshape(-1,1)\n",
        "  y=np.copy(m1[:,i]).reshape(-1,1)\n",
        "  lag_m1z2.append(cal_reg_coef(x,y))\n",
        "\n",
        "\n",
        "#print(np.mean(lag_m1z1))\n",
        "#print(np.mean(lag_m1z2))\n",
        "\n",
        "a=np.matrix([[np.mean(lag_z1z1), np.mean(lag_z2z1)],\n",
        " [np.mean(lag_z1z2), np.mean(lag_z2z2)]])\n",
        "b=np.matrix([[np.mean(lag_m1z1)], [np.mean(lag_m1z2)]])\n",
        "\n",
        "print(a)\n",
        "print(b)\n",
        "\n",
        "x=np.matmul(np.linalg.inv(a),b)\n",
        "\n",
        "print(x)\n"
      ],
      "metadata": {
        "colab": {
          "base_uri": "https://localhost:8080/"
        },
        "id": "8SFWSxCejrJG",
        "outputId": "a1702cfd-137c-4c60-f384-56e61e4f14f8"
      },
      "execution_count": 31,
      "outputs": [
        {
          "output_type": "stream",
          "name": "stdout",
          "text": [
            "[[ 0.38850185 -0.07047598]\n",
            " [ 0.10965526  0.3179857 ]]\n",
            "[[0.00036202]\n",
            " [0.00023971]]\n",
            "[[0.00100567]\n",
            " [0.00040704]]\n"
          ]
        }
      ]
    }
  ]
}