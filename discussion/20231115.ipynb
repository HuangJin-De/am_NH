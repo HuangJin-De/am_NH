{
  "nbformat": 4,
  "nbformat_minor": 0,
  "metadata": {
    "colab": {
      "provenance": [],
      "authorship_tag": "ABX9TyODpOPTgtxpP1KGqOcnxMHQ",
      "include_colab_link": true
    },
    "kernelspec": {
      "name": "python3",
      "display_name": "Python 3"
    },
    "language_info": {
      "name": "python"
    }
  },
  "cells": [
    {
      "cell_type": "markdown",
      "metadata": {
        "id": "view-in-github",
        "colab_type": "text"
      },
      "source": [
        "<a href=\"https://colab.research.google.com/github/HuangJin-De/am_NH/blob/main/discussion/20231115.ipynb\" target=\"_parent\"><img src=\"https://colab.research.google.com/assets/colab-badge.svg\" alt=\"Open In Colab\"/></a>"
      ]
    },
    {
      "cell_type": "code",
      "source": [
        "! rm -rf am_NH\n",
        "! git clone https://github.com/HuangJin-De/am_NH.git"
      ],
      "metadata": {
        "id": "x9hcwec3GK_D",
        "colab": {
          "base_uri": "https://localhost:8080/"
        },
        "outputId": "4888cabb-4f08-49a4-9d5c-03b100fe1801"
      },
      "execution_count": 6,
      "outputs": [
        {
          "output_type": "stream",
          "name": "stdout",
          "text": [
            "Cloning into 'am_NH'...\n",
            "remote: Enumerating objects: 216, done.\u001b[K\n",
            "remote: Counting objects: 100% (216/216), done.\u001b[K\n",
            "remote: Compressing objects: 100% (160/160), done.\u001b[K\n",
            "remote: Total 216 (delta 94), reused 128 (delta 41), pack-reused 0\u001b[K\n",
            "Receiving objects: 100% (216/216), 7.58 MiB | 18.92 MiB/s, done.\n",
            "Resolving deltas: 100% (94/94), done.\n"
          ]
        }
      ]
    },
    {
      "cell_type": "code",
      "source": [
        "import numpy as np\n",
        "import matplotlib.pyplot as plt\n",
        "\n",
        "path='am_NH'\n",
        "filen=path+'/train_data/zm_21days_ori_data.dat'\n",
        "\n",
        "data=np.fromfile(filen,dtype=np.float32)\n",
        "data=data.reshape(-1,84)\n",
        "\n",
        "z1=np.copy(data[:,0:21])\n",
        "z2=np.copy(data[:,21:42])\n",
        "m1=np.copy(data[:,42:63])\n",
        "m2=np.copy(data[:,63:84])\n",
        "\n",
        "print(z1.shape,z2.shape,m1.shape,m2.shape)\n",
        "print(z1[0,:])\n",
        "print(m1[0,:])"
      ],
      "metadata": {
        "colab": {
          "base_uri": "https://localhost:8080/"
        },
        "id": "J-HJH_kdgg5P",
        "outputId": "165d0b4e-ed25-4494-e534-32b7473b0b25"
      },
      "execution_count": 7,
      "outputs": [
        {
          "output_type": "stream",
          "name": "stdout",
          "text": [
            "(4242, 21) (4242, 21) (4242, 21) (4242, 21)\n",
            "[ 27.807383    29.223433    30.451048    34.08071     28.950182\n",
            "  24.049631    23.813913    25.54383     22.154768    16.67688\n",
            "  12.014231     6.624656    -0.60133517  -4.5212555   -7.4034467\n",
            "  -6.4296618   -3.5772855   -6.931867   -10.304456    -4.7410808\n",
            "   1.5217469 ]\n",
            "[11.36987     2.6580744   5.997234    5.95777    -3.3631287   2.5488837\n",
            "  6.3826714   2.6302502  -2.3663964  -3.7961032  -0.500228   -5.9676085\n",
            " -7.0242863  -4.391776   -3.4341097   0.62892973 -0.78749216 -6.9614167\n",
            "  1.1405915   7.594978    3.602327  ]\n"
          ]
        }
      ]
    },
    {
      "cell_type": "markdown",
      "source": [
        "estimations of b11, b12, b21, and b22."
      ],
      "metadata": {
        "id": "3DyMFycljbu6"
      }
    },
    {
      "cell_type": "code",
      "source": [
        "from sklearn.linear_model import LinearRegression\n",
        "\n",
        "def cal_reg_coef(x,y):\n",
        "  model=LinearRegression()\n",
        "  model.fit(x,y)\n",
        "  return model.coef_\n",
        "\n",
        "\n",
        "lag_z1z1=[]\n",
        "lag_z1z2=[]\n",
        "lag_z2z1=[]\n",
        "lag_z2z2=[]\n",
        "lag_m1z1=[]\n",
        "lag_m1z2=[]\n",
        "lag_m2z1=[]\n",
        "lag_m2z2=[]\n",
        "\n",
        "n=0\n",
        "for i in np.arange(8,21):\n",
        "  x=np.copy(z1[:,n]).reshape(-1,1)\n",
        "  y=np.copy(z1[:,i]).reshape(-1,1)\n",
        "  lag_z1z1.append(cal_reg_coef(x,y))\n",
        "\n",
        "  x=np.copy(z1[:,n]).reshape(-1,1)\n",
        "  y=np.copy(z2[:,i]).reshape(-1,1)\n",
        "  lag_z2z1.append(cal_reg_coef(x,y))\n",
        "\n",
        "  x=np.copy(z2[:,n]).reshape(-1,1)\n",
        "  y=np.copy(z1[:,i]).reshape(-1,1)\n",
        "  lag_z1z2.append(cal_reg_coef(x,y))\n",
        "\n",
        "  x=np.copy(z2[:,n]).reshape(-1,1)\n",
        "  y=np.copy(z2[:,i]).reshape(-1,1)\n",
        "  lag_z2z2.append(cal_reg_coef(x,y))\n",
        "\n",
        "  x=np.copy(z1[:,n]).reshape(-1,1)\n",
        "  y=np.copy(m1[:,i]).reshape(-1,1)\n",
        "  lag_m1z1.append(cal_reg_coef(x,y))\n",
        "\n",
        "  x=np.copy(z2[:,n]).reshape(-1,1)\n",
        "  y=np.copy(m1[:,i]).reshape(-1,1)\n",
        "  lag_m1z2.append(cal_reg_coef(x,y))\n",
        "\n",
        "  x=np.copy(z1[:,n]).reshape(-1,1)\n",
        "  y=np.copy(m2[:,i]).reshape(-1,1)\n",
        "  lag_m2z1.append(cal_reg_coef(x,y))\n",
        "\n",
        "  x=np.copy(z2[:,n]).reshape(-1,1)\n",
        "  y=np.copy(m2[:,i]).reshape(-1,1)\n",
        "  lag_m2z2.append(cal_reg_coef(x,y))\n",
        "\n",
        "\n",
        "#print(np.mean(lag_m1z1))\n",
        "#print(np.mean(lag_m1z2))\n",
        "\n",
        "a1=np.matrix([[np.mean(lag_z1z1), np.mean(lag_z2z1)],\n",
        " [np.mean(lag_z1z2), np.mean(lag_z2z2)]])\n",
        "b1=np.matrix([[np.mean(lag_m1z1)], [np.mean(lag_m1z2)]])\n",
        "\n",
        "x1=np.matmul(np.linalg.inv(a1),b1)\n",
        "\n",
        "print(x1)\n",
        "\n",
        "a2=np.matrix([[np.mean(lag_z2z1), np.mean(lag_z1z1)],\n",
        " [np.mean(lag_z2z2), np.mean(lag_z1z2)]])\n",
        "b2=np.matrix([[np.mean(lag_m2z1)], [np.mean(lag_m2z2)]])\n",
        "\n",
        "x2=np.matmul(np.linalg.inv(a2),b2)\n",
        "\n",
        "print(x2)\n"
      ],
      "metadata": {
        "colab": {
          "base_uri": "https://localhost:8080/"
        },
        "id": "8SFWSxCejrJG",
        "outputId": "db4d3fbf-d62c-4552-a2da-d82e7a228d2a"
      },
      "execution_count": 12,
      "outputs": [
        {
          "output_type": "stream",
          "name": "stdout",
          "text": [
            "[[0.05786296]\n",
            " [0.02330417]]\n",
            "[[ 0.09109624]\n",
            " [-0.05169249]]\n"
          ]
        }
      ]
    }
  ]
}