{
  "nbformat": 4,
  "nbformat_minor": 0,
  "metadata": {
    "colab": {
      "provenance": [],
      "authorship_tag": "ABX9TyOJivkK7wx7WwShuR6mR042",
      "include_colab_link": true
    },
    "kernelspec": {
      "name": "python3",
      "display_name": "Python 3"
    },
    "language_info": {
      "name": "python"
    },
    "accelerator": "GPU"
  },
  "cells": [
    {
      "cell_type": "markdown",
      "metadata": {
        "id": "view-in-github",
        "colab_type": "text"
      },
      "source": [
        "<a href=\"https://colab.research.google.com/github/HuangJin-De/am_NH/blob/main/discussion/20231115.ipynb\" target=\"_parent\"><img src=\"https://colab.research.google.com/assets/colab-badge.svg\" alt=\"Open In Colab\"/></a>"
      ]
    },
    {
      "cell_type": "code",
      "source": [
        "! rm -rf am_NH\n",
        "! git clone https://github.com/HuangJin-De/am_NH.git"
      ],
      "metadata": {
        "id": "x9hcwec3GK_D",
        "outputId": "66415c4f-139f-4d3c-fe5a-8a3e54b8c3a4",
        "colab": {
          "base_uri": "https://localhost:8080/"
        }
      },
      "execution_count": 1,
      "outputs": [
        {
          "output_type": "stream",
          "name": "stdout",
          "text": [
            "Cloning into 'am_NH'...\n",
            "remote: Enumerating objects: 164, done.\u001b[K\n",
            "remote: Counting objects: 100% (164/164), done.\u001b[K\n",
            "remote: Compressing objects: 100% (114/114), done.\u001b[K\n",
            "remote: Total 164 (delta 64), reused 110 (delta 35), pack-reused 0\u001b[K\n",
            "Receiving objects: 100% (164/164), 6.03 MiB | 6.55 MiB/s, done.\n",
            "Resolving deltas: 100% (64/64), done.\n"
          ]
        }
      ]
    },
    {
      "cell_type": "code",
      "source": [
        "import numpy as np\n",
        "import matplotlib.pyplot as plt\n",
        "\n",
        "path='am_NH'\n",
        "filen=path+'/train_data/zm_10days_data.dat'\n",
        "\n",
        "data=np.fromfile(filen,dtype=np.float32)\n",
        "data=data.reshape(-1,42)\n",
        "\n",
        "y1=np.copy(data[:,0])\n",
        "print(y1[0:10])\n",
        "y2=np.copy(data[:,1])\n",
        "print(y2[0:10])\n",
        "x=np.copy(data[:,2:43])\n",
        "\n",
        "print(y1.shape,y2.shape,x.shape)\n"
      ],
      "metadata": {
        "id": "J-HJH_kdgg5P",
        "outputId": "21e31c91-10c1-48a4-b85d-47f7a07e729c",
        "colab": {
          "base_uri": "https://localhost:8080/"
        }
      },
      "execution_count": 2,
      "outputs": [
        {
          "output_type": "stream",
          "name": "stdout",
          "text": [
            "[ 0.0833049  -1.0930462  -1.3138411  -0.75141543 -0.5470629   0.33093917\n",
            "  0.02753482 -1.3000826   0.44190055  1.824813  ]\n",
            "[ 0.81427157 -0.04958611 -0.70947564  0.5993808   1.0594871  -0.33536747\n",
            " -1.3672273  -0.12659782 -0.5226433  -0.6045729 ]\n",
            "(4662,) (4662,) (4662, 40)\n"
          ]
        }
      ]
    }
  ]
}