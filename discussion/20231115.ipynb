{
  "nbformat": 4,
  "nbformat_minor": 0,
  "metadata": {
    "colab": {
      "provenance": [],
      "authorship_tag": "ABX9TyNHpVY3lVeJl0ANkTbYUGBM",
      "include_colab_link": true
    },
    "kernelspec": {
      "name": "python3",
      "display_name": "Python 3"
    },
    "language_info": {
      "name": "python"
    },
    "accelerator": "GPU"
  },
  "cells": [
    {
      "cell_type": "markdown",
      "metadata": {
        "id": "view-in-github",
        "colab_type": "text"
      },
      "source": [
        "<a href=\"https://colab.research.google.com/github/HuangJin-De/am_NH/blob/main/discussion/20231115.ipynb\" target=\"_parent\"><img src=\"https://colab.research.google.com/assets/colab-badge.svg\" alt=\"Open In Colab\"/></a>"
      ]
    },
    {
      "cell_type": "code",
      "source": [
        "! rm -rf am_NH\n",
        "! git clone https://github.com/HuangJin-De/am_NH.git"
      ],
      "metadata": {
        "id": "x9hcwec3GK_D",
        "colab": {
          "base_uri": "https://localhost:8080/"
        },
        "outputId": "ca3a665e-6bd7-4720-fd1c-de6e8de5ccd4"
      },
      "execution_count": 3,
      "outputs": [
        {
          "output_type": "stream",
          "name": "stdout",
          "text": [
            "Cloning into 'am_NH'...\n",
            "remote: Enumerating objects: 175, done.\u001b[K\n",
            "remote: Counting objects: 100% (175/175), done.\u001b[K\n",
            "remote: Compressing objects: 100% (125/125), done.\u001b[K\n",
            "remote: Total 175 (delta 70), reused 113 (delta 35), pack-reused 0\u001b[K\n",
            "Receiving objects: 100% (175/175), 6.15 MiB | 19.50 MiB/s, done.\n",
            "Resolving deltas: 100% (70/70), done.\n"
          ]
        }
      ]
    },
    {
      "cell_type": "code",
      "source": [
        "import numpy as np\n",
        "import matplotlib.pyplot as plt\n",
        "\n",
        "path='am_NH'\n",
        "filen=path+'/train_data/zm_10days_ori_data.dat'\n",
        "\n",
        "data=np.fromfile(filen,dtype=np.float32)\n",
        "data=data.reshape(-1,42)\n",
        "\n",
        "y1=np.copy(data[:,0])\n",
        "print(y1[0:10])\n",
        "y2=np.copy(data[:,1])\n",
        "print(y2[0:10])\n",
        "x=np.copy(data[:,2:43])\n",
        "print(x[0:10,0])\n",
        "\n",
        "print(y1.shape,y2.shape,x.shape)\n"
      ],
      "metadata": {
        "colab": {
          "base_uri": "https://localhost:8080/"
        },
        "id": "J-HJH_kdgg5P",
        "outputId": "229fcc83-7d86-4d93-e833-1f137c84f3a0"
      },
      "execution_count": 6,
      "outputs": [
        {
          "output_type": "stream",
          "name": "stdout",
          "text": [
            "[-0.00886129 -0.10451781 -0.12247203 -0.07673766 -0.06012047  0.01127541\n",
            " -0.01339631 -0.12135324  0.02029838  0.1327517 ]\n",
            "[ 0.05676877 -0.0081835  -0.05779969  0.04061143  0.0752062  -0.02967101\n",
            " -0.10725513 -0.0139739  -0.04375202 -0.0499122 ]\n",
            "[27.807383 29.223433 30.451048 34.08071  28.950182 24.049631 23.813913\n",
            " 25.54383  22.154768 16.67688 ]\n",
            "(4662,) (4662,) (4662, 40)\n"
          ]
        }
      ]
    },
    {
      "cell_type": "markdown",
      "source": [
        "estimations of b11, b12, b21, and b22."
      ],
      "metadata": {
        "id": "3DyMFycljbu6"
      }
    },
    {
      "cell_type": "code",
      "source": [],
      "metadata": {
        "id": "8SFWSxCejrJG"
      },
      "execution_count": null,
      "outputs": []
    }
  ]
}